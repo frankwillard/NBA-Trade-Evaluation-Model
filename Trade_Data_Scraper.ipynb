{
  "nbformat": 4,
  "nbformat_minor": 0,
  "metadata": {
    "colab": {
      "name": "Trade Data Scraper",
      "provenance": [],
      "collapsed_sections": [],
      "authorship_tag": "ABX9TyNtTvM/ObMgiHWhSsRS9R5q",
      "include_colab_link": true
    },
    "kernelspec": {
      "name": "python3",
      "display_name": "Python 3"
    },
    "language_info": {
      "name": "python"
    }
  },
  "cells": [
    {
      "cell_type": "markdown",
      "metadata": {
        "id": "view-in-github",
        "colab_type": "text"
      },
      "source": [
        "<a href=\"https://colab.research.google.com/github/frankwillard/NBA-Trade-Evaluation-Model/blob/main/Trade_Data_Scraper.ipynb\" target=\"_parent\"><img src=\"https://colab.research.google.com/assets/colab-badge.svg\" alt=\"Open In Colab\"/></a>"
      ]
    },
    {
      "cell_type": "code",
      "execution_count": 6,
      "metadata": {
        "id": "QtROFv91uvga"
      },
      "outputs": [],
      "source": [
        "import string\n",
        "from urllib.request import urlopen, Request\n",
        "from bs4 import BeautifulSoup\n",
        "import pandas as pd\n",
        "import re\n",
        "import numpy as np\n",
        "import bs4\n",
        "import re\n",
        "from datetime import date"
      ]
    },
    {
      "cell_type": "code",
      "source": [
        "test_url = 'https://www.basketball-reference.com/leagues/NBA_2021_transactions.html'\n",
        "test_html = urlopen(test_url)\n",
        "test_soup = BeautifulSoup(test_html, features=\"lxml\")"
      ],
      "metadata": {
        "id": "9JLVeYylu1cL"
      },
      "execution_count": 7,
      "outputs": []
    },
    {
      "cell_type": "code",
      "source": [
        "transactions_list = test_soup.find_all('ul', {'class' : 'page_index'})[0]"
      ],
      "metadata": {
        "id": "OKyPObKrvDIZ"
      },
      "execution_count": 8,
      "outputs": []
    },
    {
      "cell_type": "markdown",
      "source": [
        "Trades that parser needs to learn to deal with:\n",
        "\n",
        "\n",
        "Multiteam deals:\n",
        "\n",
        "Ex: In a 3-team trade, the Brooklyn Nets traded Saddiq Bey, Jaylen Hands, Dzanan Musa and a 2021 2nd round draft pick (JT Thor was later selected) to the Detroit Pistons; the Brooklyn Nets traded Jay Scrubb to the Los Angeles Clippers; the Detroit Pistons traded Bruce Brown to the Brooklyn Nets; the Detroit Pistons traded Luke Kennard, Justin Patton, a 2023 2nd round draft pick, a 2024 2nd round draft pick, a 2025 2nd round draft pick and a 2026 2nd round draft pick to the Los Angeles Clippers; the Los Angeles Clippers traded Reggie Perry and Landry Shamet to the Brooklyn Nets; and the Los Angeles Clippers traded Rodney McGruder and cash to the Detroit Pistons. 2023 2nd-rd pick is POR own 2024 2nd-rd pick is DET's own 2025 2nd-rd pick is DET's own 2026 2nd-rd pick is DET's own 2021 2nd-rd pick is TOR own\n",
        "\n",
        "\n",
        "Trades with extra info at end:\n",
        "\n",
        "Ex: The Milwaukee Bucks traded a 2022 2nd round draft pick (Max Christie was later selected) and a 2026 2nd round draft pick to the Orlando Magic for a 2020 2nd round draft pick (Jordan Nwora was later selected). 2026 2nd-rd pick is MIL own 2022 2nd-rd pick is IND own and could have been either 2022, 2023, or 2024\n",
        "\n"
      ],
      "metadata": {
        "id": "zt8m3oYa3YwB"
      }
    },
    {
      "cell_type": "code",
      "source": [
        "def multiple_replace(dict, text):\n",
        "  \"\"\"\n",
        "  Applies multiple replaces in string based on dictionary\n",
        "  Args:\n",
        "      dict ([type]): Dictionary with keys as phrase to be replaced, vals as phrase to replace key\n",
        "      text ([type]): Text to apply string replaces to\n",
        "  Returns:\n",
        "      [type]: [description]\n",
        "  \"\"\"\n",
        "  # Create a regular expression  from the dictionary keys\n",
        "  regex = re.compile(\"(%s)\" % \"|\".join(map(re.escape, dict.keys())))\n",
        "\n",
        "  # For each match, look-up corresponding value in dictionary\n",
        "  return regex.sub(lambda mo: dict[mo.string[mo.start():mo.end()]], text) "
      ],
      "metadata": {
        "id": "NYD6X-Sdp8Hf"
      },
      "execution_count": 9,
      "outputs": []
    },
    {
      "cell_type": "code",
      "source": [
        "def parse_larger_trades(trade_string, num_teams):\n",
        "\n",
        "  #Does not work as regex can be superset and thus combine trades (first trade has team_1 traded __, final trade has to the team_x)\n",
        "\n",
        "  #for m in re.finditer(basic_pattern, trade_string, re.S):\n",
        "  #  print(m.group('team_1'))\n",
        "\n",
        "  statements = trade_string[trade_string.find('the'):].split('; ')\n",
        "  basic_pattern = re.compile(r'the (?P<team_1>.*) traded (?P<assets_1>.*) to the (?P<team_2>.*)')\n",
        "\n",
        "  team_lost_assets = {}\n",
        "  team_earned_assets = {}\n",
        "\n",
        "  for statement in statements:\n",
        "    #and the Portland Trail Blazers traded Mario Hezonja to the Memphis Grizzlies. \n",
        "    statement = statement.replace(\"and the\", \"the\")\n",
        "\n",
        "    #Naive way to overcome:\n",
        "    #2023 2nd-rd pick is more favorable of HOU and less favorable of MEM and DAL picks 2025 2nd-rd pick is MEM own\n",
        "    end_of_sentence = statement.find(\".\")\n",
        "    if end_of_sentence > 1:\n",
        "      statement = statement[:end_of_sentence]\n",
        "\n",
        "\n",
        "    match = basic_pattern.match(statement)\n",
        "    if match != None:\n",
        "      team_1 = match.group('team_1')\n",
        "      team_2 = match.group('team_2')\n",
        "      assets_1 = match.group('assets_1')\n",
        "\n",
        "      assets_1_list = assets_1.replace(' and', ',').split(', ')\n",
        "\n",
        "      team_lost_assets[team_1] = team_lost_assets.get(team_1, []) + assets_1_list\n",
        "      team_earned_assets[team_2] = team_earned_assets.get(team_2, []) + assets_1_list\n",
        "    else:\n",
        "      print(\"case not covered for statement: \")\n",
        "      print(statement)\n",
        "\n",
        "    return team_lost_assets, team_earned_assets\n"
      ],
      "metadata": {
        "id": "gZywwKazoCqo"
      },
      "execution_count": 10,
      "outputs": []
    },
    {
      "cell_type": "code",
      "source": [
        "def parse_simpler_trades(trade_string):\n",
        "  basic_pattern = re.compile(r'The (?P<team_1>.*) traded (?P<assets_1>.*) to the (?P<team_2>.*) for (?P<assets_2>.*).')\n",
        "  match = basic_pattern.match(trade_string)\n",
        "\n",
        "  team_1 = match.group('team_1')\n",
        "  team_2 = match.group('team_2')\n",
        "  assets_1 = match.group('assets_1')\n",
        "  assets_2 = match.group('assets_2')\n",
        "\n",
        "  team_lost_assets = {}\n",
        "  team_earned_assets = {}\n",
        "\n",
        "  assets_1_list = assets_1.replace(' and', ',').split(', ')\n",
        "  assets_2_list = assets_2.replace(' and', ',').split(', ')\n",
        "\n",
        "  team_lost_assets[team_1] = assets_1_list\n",
        "  team_lost_assets[team_2] = assets_2_list\n",
        "  team_earned_assets[team_2] = assets_1_list\n",
        "  team_earned_assets[team_1] = assets_2_list\n",
        "\n",
        "  return team_lost_assets, team_earned_assets "
      ],
      "metadata": {
        "id": "B-8LJQ1joUJ-"
      },
      "execution_count": 11,
      "outputs": []
    },
    {
      "cell_type": "code",
      "source": [
        "def parse_trade(trade_string):\n",
        "\n",
        "  #Regex group names\n",
        "\n",
        "  print(trade_string)\n",
        "\n",
        "  three_plus_team_pattern = re.compile(r\"In a (?P<num_teams>\\d)-team trade, \")\n",
        "\n",
        "  if three_plus_team_pattern.match(trade_string) :\n",
        "    num_teams = int(three_plus_team_pattern.match(trade_string).group('num_teams'))\n",
        "    team_lost_assets, team_earned_assets = parse_larger_trades(trade_string, num_teams)\n",
        "  else:\n",
        "    team_lost_assets, team_earned_assets = parse_simpler_trades(trade_string)\n",
        "\n",
        "  print('Lost assets: ')\n",
        "  print(team_lost_assets)\n",
        "\n",
        "  print('Earned assets: ')\n",
        "  print(team_earned_assets)\n",
        "\n",
        "  return team_lost_assets, team_earned_assets"
      ],
      "metadata": {
        "id": "94u1ugGh1ScU"
      },
      "execution_count": 14,
      "outputs": []
    },
    {
      "cell_type": "code",
      "source": [
        "j=0\n",
        "for li in transactions_list.find_all('li'):\n",
        "  date = li.find('span').get_text()\n",
        "  trade_string = li.find('p').get_text()\n",
        "\n",
        "  if j == 10:\n",
        "    break\n",
        "\n",
        "  if 'trade' in trade_string:\n",
        "    j+=1\n",
        "    parse_trade(trade_string)\n"
      ],
      "metadata": {
        "colab": {
          "base_uri": "https://localhost:8080/",
          "height": 635
        },
        "id": "nQwhHpCRvKC6",
        "outputId": "7f599be7-f943-48f7-f339-751461ae28db"
      },
      "execution_count": 16,
      "outputs": [
        {
          "output_type": "stream",
          "name": "stdout",
          "text": [
            "The Los Angeles Lakers traded Danny Green and Jaden McDaniels to the Oklahoma City Thunder for Dennis Schroder.\n",
            "Lost assets: \n",
            "{'Los Angeles Lakers': ['Danny Green', 'Jaden McDaniels'], 'Oklahoma City Thunder': ['Dennis Schroder']}\n",
            "Earned assets: \n",
            "{'Oklahoma City Thunder': ['Danny Green', 'Jaden McDaniels'], 'Los Angeles Lakers': ['Dennis Schroder']}\n",
            "The Charlotte Hornets traded a 2024 2nd round draft pick to the New Orleans Pelicans for Nick Richards. 2024 2nd -rd pick is CHO's own\n",
            "Lost assets: \n",
            "{'Charlotte Hornets': ['a 2024 2nd round draft pick'], 'New Orleans Pelicans': [\"Nick Richards. 2024 2nd -rd pick is CHO's ow\"]}\n",
            "Earned assets: \n",
            "{'New Orleans Pelicans': ['a 2024 2nd round draft pick'], 'Charlotte Hornets': [\"Nick Richards. 2024 2nd -rd pick is CHO's ow\"]}\n",
            "The Cleveland Cavaliers traded Jordan Bell and Alfonzo McKinnie to the Los Angeles Lakers for JaVale McGee and a 2026 2nd round draft pick. 2026 2nd-rd pick is LAL own Los Angeles also received a trade exception.\n",
            "Lost assets: \n",
            "{'Cleveland Cavaliers': ['Jordan Bell', 'Alfonzo McKinnie'], 'Los Angeles Lakers': ['JaVale McGee', 'a 2026 2nd round draft pick. 2026 2nd-rd pick is LAL own Los Angeles also received a trade exception']}\n",
            "Earned assets: \n",
            "{'Los Angeles Lakers': ['Jordan Bell', 'Alfonzo McKinnie'], 'Cleveland Cavaliers': ['JaVale McGee', 'a 2026 2nd round draft pick. 2026 2nd-rd pick is LAL own Los Angeles also received a trade exception']}\n",
            "In a 4-team trade, the Brooklyn Nets traded Jarrett Allen and Taurean Prince to the Cleveland Cavaliers; the Brooklyn Nets traded Rodions Kurucs, a 2021 1st round draft pick, a 2022 1st round draft pick (Tari Eason was later selected), a 2023 1st round draft pick, a 2024 1st round draft pick, a 2025 1st round draft pick, a 2026 1st round draft pick and a 2027 1st round draft pick to the Houston Rockets; the Brooklyn Nets traded Caris Levert to the Indiana Pacers; the Cleveland Cavaliers traded a 2024 2nd round draft pick to the Brooklyn Nets; the Cleveland Cavaliers traded Dante Exum and a 2022 1st round draft pick (MarJon Beauchamp was later selected) to the Houston Rockets; the Houston Rockets traded James Harden to the Brooklyn Nets; the Houston Rockets traded a 2023 2nd round draft pick to the Indiana Pacers; and  the Indiana Pacers traded Victor Oladipo to the Houston Rockets. 2024 2nd-rd pick is CLE own 2021 1st-rd pick is a right to swap, did not convey 2023 1st-rd pick is a right to swap 2025 1st-rd pick is a right to swap 2027 1st-rd pick is a right to swap 2022 1st-rd draft pick is MIL own 2023 2nd-rd pick is HOU own\n"
          ]
        },
        {
          "output_type": "error",
          "ename": "TypeError",
          "evalue": "ignored",
          "traceback": [
            "\u001b[0;31m---------------------------------------------------------------------------\u001b[0m",
            "\u001b[0;31mTypeError\u001b[0m                                 Traceback (most recent call last)",
            "\u001b[0;32m<ipython-input-16-005923558a69>\u001b[0m in \u001b[0;36m<module>\u001b[0;34m\u001b[0m\n\u001b[1;32m      9\u001b[0m   \u001b[0;32mif\u001b[0m \u001b[0;34m'trade'\u001b[0m \u001b[0;32min\u001b[0m \u001b[0mtrade_string\u001b[0m\u001b[0;34m:\u001b[0m\u001b[0;34m\u001b[0m\u001b[0;34m\u001b[0m\u001b[0m\n\u001b[1;32m     10\u001b[0m     \u001b[0mj\u001b[0m\u001b[0;34m+=\u001b[0m\u001b[0;36m1\u001b[0m\u001b[0;34m\u001b[0m\u001b[0;34m\u001b[0m\u001b[0m\n\u001b[0;32m---> 11\u001b[0;31m     \u001b[0mparse_trade\u001b[0m\u001b[0;34m(\u001b[0m\u001b[0mtrade_string\u001b[0m\u001b[0;34m)\u001b[0m\u001b[0;34m\u001b[0m\u001b[0;34m\u001b[0m\u001b[0m\n\u001b[0m",
            "\u001b[0;32m<ipython-input-14-c1bb0e2e6d12>\u001b[0m in \u001b[0;36mparse_trade\u001b[0;34m(trade_string)\u001b[0m\n\u001b[1;32m      9\u001b[0m   \u001b[0;32mif\u001b[0m \u001b[0mthree_plus_team_pattern\u001b[0m\u001b[0;34m.\u001b[0m\u001b[0mmatch\u001b[0m\u001b[0;34m(\u001b[0m\u001b[0mtrade_string\u001b[0m\u001b[0;34m)\u001b[0m \u001b[0;34m:\u001b[0m\u001b[0;34m\u001b[0m\u001b[0;34m\u001b[0m\u001b[0m\n\u001b[1;32m     10\u001b[0m     \u001b[0mnum_teams\u001b[0m \u001b[0;34m=\u001b[0m \u001b[0mint\u001b[0m\u001b[0;34m(\u001b[0m\u001b[0mthree_plus_team_pattern\u001b[0m\u001b[0;34m.\u001b[0m\u001b[0mmatch\u001b[0m\u001b[0;34m(\u001b[0m\u001b[0mtrade_string\u001b[0m\u001b[0;34m)\u001b[0m\u001b[0;34m.\u001b[0m\u001b[0mgroup\u001b[0m\u001b[0;34m(\u001b[0m\u001b[0;34m'num_teams'\u001b[0m\u001b[0;34m)\u001b[0m\u001b[0;34m)\u001b[0m\u001b[0;34m\u001b[0m\u001b[0;34m\u001b[0m\u001b[0m\n\u001b[0;32m---> 11\u001b[0;31m     \u001b[0mteam_lost_assets\u001b[0m\u001b[0;34m,\u001b[0m \u001b[0mteam_earned_assets\u001b[0m \u001b[0;34m=\u001b[0m \u001b[0mparse_larger_trades\u001b[0m\u001b[0;34m(\u001b[0m\u001b[0mtrade_string\u001b[0m\u001b[0;34m)\u001b[0m\u001b[0;34m\u001b[0m\u001b[0;34m\u001b[0m\u001b[0m\n\u001b[0m\u001b[1;32m     12\u001b[0m   \u001b[0;32melse\u001b[0m\u001b[0;34m:\u001b[0m\u001b[0;34m\u001b[0m\u001b[0;34m\u001b[0m\u001b[0m\n\u001b[1;32m     13\u001b[0m     \u001b[0mteam_lost_assets\u001b[0m\u001b[0;34m,\u001b[0m \u001b[0mteam_earned_assets\u001b[0m \u001b[0;34m=\u001b[0m \u001b[0mparse_simpler_trades\u001b[0m\u001b[0;34m(\u001b[0m\u001b[0mtrade_string\u001b[0m\u001b[0;34m)\u001b[0m\u001b[0;34m\u001b[0m\u001b[0;34m\u001b[0m\u001b[0m\n",
            "\u001b[0;31mTypeError\u001b[0m: parse_larger_trades() missing 1 required positional argument: 'num_teams'"
          ]
        }
      ]
    },
    {
      "cell_type": "markdown",
      "source": [
        "Need to be able to parse multiple players for both teams\n",
        "\n",
        "2 for 1:\n",
        "The {Team 1} traded {Player 1} and {Player 2} to the {Team 2} for {Player 3}\n",
        "\n",
        "3+ for 1:\n",
        "The {Team 1} traded {Player 1}, {Player 2}, and {Player 3} to the {Team 2} for {Player 4}\n",
        "\n",
        "1 for 2:\n",
        "The {Team 1} traded {Player 1} to the {Team 2} for {Player 2} and {Player 3}\n",
        "\n",
        "1 for 3+:\n",
        "The {Team 1} traded {Player 1} to the {Team 2} for {Player 2}, {Player 3}, {Player 4}\n",
        "\n",
        "\n",
        "--->\n",
        "\n",
        "The _____ traded _________ to the _____ for ________\n",
        "\n",
        "Replace \"and\" with \",\" and split the blanks into commas"
      ],
      "metadata": {
        "id": "Ypwo5aIoyzfy"
      }
    },
    {
      "cell_type": "markdown",
      "source": [
        "Need to extract individual elements:\n",
        "\n",
        "Team 1\n",
        "Team 2\n",
        "List of players/assets from team 1\n",
        "List of players/assets from team 2\n",
        "\n",
        "Need to then remove irrelevant assets"
      ],
      "metadata": {
        "id": "6TC_Ti3VzL1g"
      }
    },
    {
      "cell_type": "markdown",
      "source": [
        "Multiple team trades"
      ],
      "metadata": {
        "id": "6H4EZAWqzIjE"
      }
    },
    {
      "cell_type": "code",
      "source": [
        "trade_string = \"In a 3-team trade, the Boston Celtics traded Desmond Bane to the Memphis Grizzlies; the Boston Celtics traded Enes Kanter to the Portland Trail Blazers; the Memphis Grizzlies traded a 2023 2nd round draft pick and a 2025 2nd round draft pick to the Boston Celtics; the Memphis Grizzlies traded cash to the Portland Trail Blazers; and the Portland Trail Blazers traded Mario Hezonja to the Memphis Grizzlies. 2023 2nd-rd pick is more favorable of HOU and less favorable of MEM and DAL picks 2025 2nd-rd pick is MEM own\""
      ],
      "metadata": {
        "id": "Ii5-2pWQyUmr"
      },
      "execution_count": 46,
      "outputs": []
    },
    {
      "cell_type": "code",
      "source": [
        "statements = trade_string[trade_string.find('the'):].split('; ')"
      ],
      "metadata": {
        "id": "6JF23K_3mNbc"
      },
      "execution_count": 47,
      "outputs": []
    },
    {
      "cell_type": "code",
      "source": [
        "three_plus_team_pattern = re.compile(r\"In a (?P<num_teams>\\d)-team trade, \")\n",
        "num_teams = int(three_plus_team_pattern.match(trade_string).group('num_teams'))"
      ],
      "metadata": {
        "id": "vtLrhTYzI2G4"
      },
      "execution_count": 48,
      "outputs": []
    },
    {
      "cell_type": "code",
      "source": [
        "three_plus_team_pattern.match(trade_string)"
      ],
      "metadata": {
        "colab": {
          "base_uri": "https://localhost:8080/"
        },
        "id": "IVl-PQx9nyFn",
        "outputId": "b563ee36-e7e3-4254-c2ea-1cdd22884392"
      },
      "execution_count": 73,
      "outputs": [
        {
          "output_type": "execute_result",
          "data": {
            "text/plain": [
              "<re.Match object; span=(0, 19), match='In a 3-team trade, '>"
            ]
          },
          "metadata": {},
          "execution_count": 73
        }
      ]
    },
    {
      "cell_type": "code",
      "source": [
        "basic_pattern = re.compile(r'the (?P<team_1>.*) traded (?P<assets_1>.*) to the (?P<team_2>.*)')"
      ],
      "metadata": {
        "id": "c1QK0V3cJQvn"
      },
      "execution_count": 49,
      "outputs": []
    },
    {
      "cell_type": "code",
      "source": [
        "team_lost_assets = {}\n",
        "team_earned_assets = {}"
      ],
      "metadata": {
        "id": "xUktpBjfmRO2"
      },
      "execution_count": 68,
      "outputs": []
    },
    {
      "cell_type": "code",
      "source": [
        "for statement in statements:\n",
        "  \n",
        "  #and the Portland Trail Blazers traded Mario Hezonja to the Memphis Grizzlies. \n",
        "  statement = statement.replace(\"and the\", \"the\")\n",
        "\n",
        "  #Naive way to overcome:\n",
        "  #2023 2nd-rd pick is more favorable of HOU and less favorable of MEM and DAL picks 2025 2nd-rd pick is MEM own\n",
        "  end_of_sentence = statement.find(\".\")\n",
        "  if end_of_sentence > 1:\n",
        "    statement = statement[:end_of_sentence]\n",
        "\n",
        "\n",
        "  match = basic_pattern.match(statement)\n",
        "  if match != None:\n",
        "    team_1 = match.group('team_1')\n",
        "    team_2 = match.group('team_2')\n",
        "    assets_1 = match.group('assets_1')\n",
        "\n",
        "    assets_list = assets_1.replace(' and', ',').split(', ')\n",
        "\n",
        "    team_lost_assets[team_1] = team_lost_assets.get(team_1, []) + assets_list\n",
        "    team_earned_assets[team_2] = team_earned_assets.get(team_2, []) + assets_list\n",
        "  else:\n",
        "    print(statement)"
      ],
      "metadata": {
        "id": "XNJPff4bNIVE"
      },
      "execution_count": 69,
      "outputs": []
    },
    {
      "cell_type": "code",
      "source": [
        "team_lost_assets"
      ],
      "metadata": {
        "colab": {
          "base_uri": "https://localhost:8080/"
        },
        "id": "EzLvA2dFm-X3",
        "outputId": "83ea4b54-47b5-438c-92fd-dcaaa53a39a9"
      },
      "execution_count": 70,
      "outputs": [
        {
          "output_type": "execute_result",
          "data": {
            "text/plain": [
              "{'Boston Celtics': ['Desmond Bane', 'Enes Kanter'],\n",
              " 'Memphis Grizzlies': ['a 2023 2nd round draft pick',\n",
              "  'a 2025 2nd round draft pick',\n",
              "  'cash'],\n",
              " 'Portland Trail Blazers': ['Mario Hezonja']}"
            ]
          },
          "metadata": {},
          "execution_count": 70
        }
      ]
    },
    {
      "cell_type": "code",
      "source": [
        "team_earned_assets"
      ],
      "metadata": {
        "colab": {
          "base_uri": "https://localhost:8080/"
        },
        "id": "uw_jlLTSnX3z",
        "outputId": "95737573-ad4d-4e8c-fc59-34e2ce60d15a"
      },
      "execution_count": 72,
      "outputs": [
        {
          "output_type": "execute_result",
          "data": {
            "text/plain": [
              "{'Memphis Grizzlies': ['Desmond Bane', 'Mario Hezonja'],\n",
              " 'Portland Trail Blazers': ['Enes Kanter', 'cash'],\n",
              " 'Boston Celtics': ['a 2023 2nd round draft pick',\n",
              "  'a 2025 2nd round draft pick']}"
            ]
          },
          "metadata": {},
          "execution_count": 72
        }
      ]
    },
    {
      "cell_type": "code",
      "source": [
        "#match = basic_pattern.match(trade_string)"
      ],
      "metadata": {
        "id": "UUpBc-glIm1X"
      },
      "execution_count": 35,
      "outputs": []
    },
    {
      "cell_type": "code",
      "source": [
        "\n",
        "#Does not work as regex can be superset and thus combine trades (first trade has team_1 traded __, final trade has to the team_x)\n",
        "\n",
        "#for m in re.finditer(basic_pattern, trade_string, re.S):\n",
        "#  print(m.group('team_1'))"
      ],
      "metadata": {
        "id": "Ks5yRY_pJcEd"
      },
      "execution_count": 82,
      "outputs": []
    },
    {
      "cell_type": "code",
      "source": [
        ""
      ],
      "metadata": {
        "id": "0VCimc4jIyQp"
      },
      "execution_count": null,
      "outputs": []
    }
  ]
}